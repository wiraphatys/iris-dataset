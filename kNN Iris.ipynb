{
 "cells": [
  {
   "cell_type": "markdown",
   "metadata": {},
   "source": [
    "# k-Nearest Neighbors (kNN) "
   ]
  },
  {
   "cell_type": "code",
   "execution_count": null,
   "metadata": {},
   "outputs": [],
   "source": [
    "import numpy as np\n",
    "import seaborn as sns\n",
    "import matplotlib.pyplot as plt\n",
    "import pandas as pd\n",
    "\n",
    "from sklearn.metrics import confusion_matrix, ConfusionMatrixDisplay\n",
    "from sklearn.metrics import classification_report\n",
    "from sklearn.model_selection import cross_val_score"
   ]
  },
  {
   "cell_type": "code",
   "execution_count": null,
   "metadata": {},
   "outputs": [],
   "source": [
    "# Set Style\n",
    "# sns.set_style('darkgrid')\n",
    "# sns.set_style('dark')\n",
    "# sns.set_style('whitegrid')\n",
    "# sns.set_style('white')\n",
    "# sns.set_style('ticks')"
   ]
  },
  {
   "cell_type": "markdown",
   "metadata": {},
   "source": [
    "## Iris Dataset"
   ]
  },
  {
   "cell_type": "code",
   "execution_count": null,
   "metadata": {},
   "outputs": [],
   "source": [
    "df = sns.load_dataset('iris')\n",
    "# df.head()\n",
    "# df.tail()\n",
    "df.sample(6, random_state=1)"
   ]
  },
  {
   "cell_type": "code",
   "execution_count": null,
   "metadata": {},
   "outputs": [],
   "source": [
    "df.isnull().sum()"
   ]
  },
  {
   "cell_type": "code",
   "execution_count": null,
   "metadata": {},
   "outputs": [],
   "source": [
    "df.species.unique()"
   ]
  },
  {
   "cell_type": "code",
   "execution_count": null,
   "metadata": {},
   "outputs": [],
   "source": [
    "# แต่ละ Class มีจำนวน Samples เท่าใด\n",
    "df.groupby('species').count()\n",
    "# df.groupby('species').sepal_length.count()"
   ]
  },
  {
   "cell_type": "code",
   "execution_count": null,
   "metadata": {},
   "outputs": [],
   "source": [
    "# Frequency of Species (target or class)\n",
    "(label, count) = np.unique(df.species , return_counts=True)\n",
    "freq = np.asarray((label, count)).T\n",
    "print(freq)"
   ]
  },
  {
   "cell_type": "markdown",
   "metadata": {},
   "source": [
    "## Data Visualization"
   ]
  },
  {
   "cell_type": "code",
   "execution_count": null,
   "metadata": {},
   "outputs": [],
   "source": [
    "sns.histplot(data=df, x='species')\n",
    "plt.show()"
   ]
  },
  {
   "cell_type": "code",
   "execution_count": null,
   "metadata": {},
   "outputs": [],
   "source": [
    "sns.histplot(data=df, x='species', hue='species', shrink=.5)\n",
    "plt.show()"
   ]
  },
  {
   "cell_type": "code",
   "execution_count": null,
   "metadata": {},
   "outputs": [],
   "source": [
    "# Scatter plot by Matplotlib\n",
    "plt.scatter(df.sepal_length, df.sepal_width)\n",
    "plt.show()"
   ]
  },
  {
   "cell_type": "code",
   "execution_count": null,
   "metadata": {},
   "outputs": [],
   "source": [
    "# Seaborn\n",
    "sns.scatterplot(data=df, x='sepal_length', y='sepal_width')\n",
    "plt.show()"
   ]
  },
  {
   "cell_type": "code",
   "execution_count": null,
   "metadata": {},
   "outputs": [],
   "source": [
    "sns.scatterplot(data=df, x='sepal_length', y='sepal_width',\n",
    "                 hue='species', \n",
    "                 style='species', palette='Set1',\n",
    "                 s=80)\n",
    "plt.title('Iris dataset: Sepal')\n",
    "plt.show()"
   ]
  },
  {
   "cell_type": "code",
   "execution_count": null,
   "metadata": {},
   "outputs": [],
   "source": [
    "sns.scatterplot(data=df, x='petal_length', y='petal_width',\n",
    "                 hue='species', style='species', s=80)\n",
    "plt.title('Iris dataset: Petal')\n",
    "plt.show()"
   ]
  },
  {
   "cell_type": "markdown",
   "metadata": {},
   "source": [
    "## KDE \n",
    "A kernel density estimate (KDE) plot (for visualizing the distribution of observations in a dataset)"
   ]
  },
  {
   "cell_type": "code",
   "execution_count": null,
   "metadata": {},
   "outputs": [],
   "source": [
    "sns.histplot(data=df, x='petal_width', hue='species', shrink=.8)\n",
    "plt.show()"
   ]
  },
  {
   "cell_type": "code",
   "execution_count": null,
   "metadata": {},
   "outputs": [],
   "source": [
    "sns.kdeplot(data=df, x='petal_width', hue='species', shade=True)\n",
    "plt.show()"
   ]
  },
  {
   "cell_type": "code",
   "execution_count": null,
   "metadata": {},
   "outputs": [],
   "source": [
    "sns.kdeplot(data=df, x='sepal_width', hue='species', shade=True)\n",
    "plt.show()"
   ]
  },
  {
   "cell_type": "markdown",
   "metadata": {},
   "source": [
    "## Pairplot"
   ]
  },
  {
   "cell_type": "code",
   "execution_count": null,
   "metadata": {},
   "outputs": [],
   "source": [
    "plt.rcParams.update({'font.size':14})\n",
    "# sns.pairplot(df)\n",
    "sns.pairplot(df, hue='species')\n",
    "plt.show()"
   ]
  },
  {
   "cell_type": "code",
   "execution_count": null,
   "metadata": {},
   "outputs": [],
   "source": [
    "columns = ['petal_length', 'petal_width', 'species']\n",
    "sns.pairplot(df[columns], hue='species', height=4)\n",
    "plt.show()"
   ]
  },
  {
   "cell_type": "markdown",
   "metadata": {},
   "source": [
    "## Prepare (เตรียม) X, y"
   ]
  },
  {
   "cell_type": "code",
   "execution_count": null,
   "metadata": {},
   "outputs": [],
   "source": [
    "X = df.drop(['species'], axis=1)\n",
    "X.head()"
   ]
  },
  {
   "cell_type": "code",
   "execution_count": null,
   "metadata": {},
   "outputs": [],
   "source": [
    "y = df.species\n",
    "y.head()"
   ]
  },
  {
   "cell_type": "markdown",
   "metadata": {},
   "source": [
    "## Label Encoding"
   ]
  },
  {
   "cell_type": "code",
   "execution_count": null,
   "metadata": {},
   "outputs": [],
   "source": [
    "# Label Encoding  (setosa-> 0,  versicolor->1 , virginica->2 )\n",
    "y, class_names = pd.factorize(df.species)\n",
    "\n",
    "class_names"
   ]
  },
  {
   "cell_type": "code",
   "execution_count": null,
   "metadata": {},
   "outputs": [],
   "source": [
    "class_names[1]"
   ]
  },
  {
   "cell_type": "code",
   "execution_count": null,
   "metadata": {},
   "outputs": [],
   "source": [
    "y[:10]"
   ]
  },
  {
   "cell_type": "code",
   "execution_count": null,
   "metadata": {},
   "outputs": [],
   "source": [
    "df.head()"
   ]
  },
  {
   "cell_type": "code",
   "execution_count": null,
   "metadata": {},
   "outputs": [],
   "source": [
    "df[50:55]"
   ]
  },
  {
   "cell_type": "code",
   "execution_count": null,
   "metadata": {},
   "outputs": [],
   "source": [
    "y[50:55]"
   ]
  },
  {
   "cell_type": "markdown",
   "metadata": {},
   "source": [
    "## Train-test Split"
   ]
  },
  {
   "cell_type": "code",
   "execution_count": null,
   "metadata": {},
   "outputs": [],
   "source": [
    "from sklearn.model_selection import train_test_split\n",
    "\n",
    "X_train, X_test,y_train,y_test = train_test_split(X, y, test_size=0.3, random_state=20)  "
   ]
  },
  {
   "cell_type": "code",
   "execution_count": null,
   "metadata": {},
   "outputs": [],
   "source": [
    "X_train.shape , X_test.shape"
   ]
  },
  {
   "cell_type": "code",
   "execution_count": null,
   "metadata": {},
   "outputs": [],
   "source": [
    "# Frequency of the Test set (target or class)\n",
    "(label, count) = np.unique(y_test , return_counts=True)\n",
    "freq = np.asarray((label, count)).T\n",
    "print(freq)"
   ]
  },
  {
   "cell_type": "code",
   "execution_count": null,
   "metadata": {},
   "outputs": [],
   "source": [
    "plt.bar(freq[:,0], freq[:,1])\n",
    "plt.xticks(np.arange(3), class_names)  # Set text labels.\n",
    "plt.show()"
   ]
  },
  {
   "cell_type": "code",
   "execution_count": null,
   "metadata": {},
   "outputs": [],
   "source": [
    "sns.barplot(x=freq[:,0], y=freq[:,1])\n",
    "plt.xticks(np.arange(3), class_names)\n",
    "plt.show()"
   ]
  },
  {
   "cell_type": "code",
   "execution_count": null,
   "metadata": {},
   "outputs": [],
   "source": [
    "X_train[:5]"
   ]
  },
  {
   "cell_type": "code",
   "execution_count": null,
   "metadata": {},
   "outputs": [],
   "source": [
    "y_train[:5]"
   ]
  },
  {
   "cell_type": "markdown",
   "metadata": {},
   "source": [
    "# Decision Tree"
   ]
  },
  {
   "cell_type": "code",
   "execution_count": null,
   "metadata": {},
   "outputs": [],
   "source": [
    "from sklearn.tree import DecisionTreeClassifier\n",
    "\n",
    "model = DecisionTreeClassifier() # maxdepth=3\n",
    "\n",
    "model.fit(X_train, y_train)"
   ]
  },
  {
   "cell_type": "code",
   "execution_count": null,
   "metadata": {},
   "outputs": [],
   "source": [
    "cvs = cross_val_score(model, X, y, cv=5)  # no need to use model.fit\n",
    "print('cross val scores {}'.format(cvs.round(3)))\n",
    "print('mean (%) = {:.3f}' .format(cvs.mean() * 100 ))"
   ]
  },
  {
   "cell_type": "code",
   "execution_count": null,
   "metadata": {},
   "outputs": [],
   "source": [
    "model.feature_importances_"
   ]
  },
  {
   "cell_type": "markdown",
   "metadata": {},
   "source": [
    "## Tree"
   ]
  },
  {
   "cell_type": "code",
   "execution_count": null,
   "metadata": {},
   "outputs": [],
   "source": [
    "from sklearn.tree import plot_tree\n",
    "\n",
    "data_feature_names = X.columns # enc_columns #\n",
    "\n",
    "plt.subplots(nrows=1, ncols=1, figsize=(6, 6), dpi=96)\n",
    "plot_tree(model, \n",
    "         filled=True, rounded=True,\n",
    "         feature_names=data_feature_names,  \n",
    "         class_names=class_names)\n",
    "\n",
    "plt.show()"
   ]
  },
  {
   "cell_type": "markdown",
   "metadata": {},
   "source": [
    "## Evaluation"
   ]
  },
  {
   "cell_type": "code",
   "execution_count": null,
   "metadata": {},
   "outputs": [],
   "source": [
    "score = model.score(X_test, y_test)\n",
    "print('Score =', score.round(3))"
   ]
  },
  {
   "cell_type": "code",
   "execution_count": null,
   "metadata": {},
   "outputs": [],
   "source": [
    "# from sklearn.metrics import accuracy_score \n",
    "from sklearn.metrics import classification_report\n",
    "from sklearn.metrics import confusion_matrix\n",
    "\n",
    "y_pred = model.predict(X_test)\n",
    "\n",
    "print('Score -> {:.3f}' . format(model.score(X_test, y_test)))\n",
    "\n",
    "# print(classification_report(y_test, y_pred))        # 0 1 2\n",
    "print(classification_report(y_test, y_pred, target_names=class_names))\n",
    "\n",
    "cm = confusion_matrix(y_test, y_pred)\n",
    "print(cm)"
   ]
  },
  {
   "cell_type": "markdown",
   "metadata": {},
   "source": [
    "## Confusion Matrix Plot"
   ]
  },
  {
   "cell_type": "code",
   "execution_count": null,
   "metadata": {},
   "outputs": [],
   "source": [
    "from sklearn.metrics import confusion_matrix, ConfusionMatrixDisplay\n",
    "\n",
    "plt.rcParams.update({'font.size':12})\n",
    "\n",
    "cm = confusion_matrix(y_test, y_pred)\n",
    "ConfusionMatrixDisplay(cm, display_labels=class_names).plot() # cmap='Pastel1'\n",
    "plt.title('Confusion Matrix')\n",
    "plt.show()"
   ]
  },
  {
   "cell_type": "markdown",
   "metadata": {},
   "source": [
    "## Miss-classification (ผิดพลาด)"
   ]
  },
  {
   "cell_type": "code",
   "execution_count": null,
   "metadata": {},
   "outputs": [],
   "source": [
    "y_pred = model.predict(X_test)"
   ]
  },
  {
   "cell_type": "code",
   "execution_count": null,
   "metadata": {},
   "outputs": [],
   "source": [
    "dy = pd.DataFrame()\n",
    "dy['y_test'] = y_test\n",
    "dy['y_pred'] = y_pred\n",
    "dy['result'] = y_test == y_pred\n",
    "\n",
    "dy[dy.result == False]"
   ]
  },
  {
   "cell_type": "code",
   "execution_count": null,
   "metadata": {},
   "outputs": [],
   "source": [
    "print(\"Miss-classification:\", len(y_test[(y_test != y_pred)]) )"
   ]
  },
  {
   "cell_type": "markdown",
   "metadata": {},
   "source": [
    "## Predict"
   ]
  },
  {
   "cell_type": "code",
   "execution_count": null,
   "metadata": {},
   "outputs": [],
   "source": [
    "X_new = np.array([[4.2, 4.0, 1.9, 0.8],     # \n",
    "                  [6.1, 3.5, 3.9, 1.5],     # \n",
    "                  [6.7, 3.5, 6.3, 1.4]])    # \n",
    "\n",
    "y_pred = model.predict(X_new)\n",
    "y_pred\n",
    "# print(class_names[y_pred][0])\n",
    "for i in y_pred:\n",
    "    print(class_names[i])"
   ]
  },
  {
   "cell_type": "markdown",
   "metadata": {},
   "source": [
    "## Plot Decision Regions "
   ]
  },
  {
   "cell_type": "code",
   "execution_count": null,
   "metadata": {},
   "outputs": [],
   "source": [
    "# from the Training set\n",
    "\n",
    "from mlxtend.plotting import plot_decision_regions\n",
    "\n",
    "value = 0\n",
    "width = 9.5\n",
    "\n",
    "ax = plot_decision_regions(np.array(X_train), y_train, \n",
    "                      clf=model, feature_index=[2, 3],    # Petal Length-width\n",
    "                      filler_feature_values={0: value, 1: value},\n",
    "                      filler_feature_ranges={0: width, 1: width},\n",
    "                      legend=2) \n",
    "\n",
    "handles, labels = ax.get_legend_handles_labels()\n",
    "ax.legend(handles, class_names, framealpha=0.5, loc='upper left')\n",
    "\n",
    "plt.title('Decision Tree: Regions from Training Set')\n",
    "plt.xlabel(df.columns[2]) \n",
    "plt.ylabel(df.columns[3])\n",
    "\n",
    "plt.show()"
   ]
  },
  {
   "cell_type": "code",
   "execution_count": null,
   "metadata": {},
   "outputs": [],
   "source": [
    "# จาก Test-set และ New data points (ที่ Predict)\n",
    "\n",
    "from mlxtend.plotting import plot_decision_regions\n",
    "\n",
    "value = 0\n",
    "width = 9.5\n",
    "\n",
    "ax = plot_decision_regions(np.array(X_test), y_test, \n",
    "                      clf=model, feature_index=[2, 3],  # Petal Length-Width  \n",
    "                      filler_feature_values={0: value, 1: value},\n",
    "                      filler_feature_ranges={0: width, 1: width},\n",
    "                      legend=2) \n",
    "\n",
    "handles, labels = ax.get_legend_handles_labels()\n",
    "ax.legend(handles, class_names, framealpha=0.5, loc='upper left')\n",
    "\n",
    "plt.title('Decision Tree: Regions from Test set and New data points')\n",
    "\n",
    "plt.xticks()\n",
    "plt.yticks()\n",
    "plt.xlabel(df.columns[2]) \n",
    "plt.ylabel(df.columns[3])\n",
    "\n",
    "plt.scatter(X_new[:,2], X_new[:,3], marker='o', s=130, c='b')\n",
    "plt.show()"
   ]
  },
  {
   "cell_type": "markdown",
   "metadata": {},
   "source": [
    "## Data Points"
   ]
  },
  {
   "cell_type": "code",
   "execution_count": null,
   "metadata": {},
   "outputs": [],
   "source": [
    "X_new"
   ]
  },
  {
   "cell_type": "code",
   "execution_count": null,
   "metadata": {},
   "outputs": [],
   "source": [
    "# Sepal Length\n",
    "\n",
    "spl = X_new[: ,0]   # Sepal Length and width\n",
    "spl"
   ]
  },
  {
   "cell_type": "code",
   "execution_count": null,
   "metadata": {},
   "outputs": [],
   "source": [
    "# Sepal width\n",
    "spw = X_new[: ,1]\n",
    "spw"
   ]
  },
  {
   "cell_type": "code",
   "execution_count": null,
   "metadata": {},
   "outputs": [],
   "source": [
    "sns.scatterplot(data=df, x='sepal_length', y='sepal_width',\n",
    "                 hue='species', style='species', s=80)\n",
    "\n",
    "plt.scatter(spl, spw, marker='o', s=130, c='b')\n",
    "\n",
    "plt.title('Iris dataset: Sepal')\n",
    "plt.show()"
   ]
  },
  {
   "cell_type": "code",
   "execution_count": null,
   "metadata": {},
   "outputs": [],
   "source": [
    "# Petal Length\n",
    "ptl = X_new[:,2]\n",
    "ptl\n"
   ]
  },
  {
   "cell_type": "code",
   "execution_count": null,
   "metadata": {},
   "outputs": [],
   "source": [
    "# Petal Width\n",
    "ptw =  X_new[:,3]\n",
    "ptw"
   ]
  },
  {
   "cell_type": "code",
   "execution_count": null,
   "metadata": {},
   "outputs": [],
   "source": [
    "X_new"
   ]
  },
  {
   "cell_type": "code",
   "execution_count": null,
   "metadata": {},
   "outputs": [],
   "source": [
    "sns.scatterplot(data=df, x='petal_length', y='petal_width',\n",
    "                 hue='species', style='species', s=80)\n",
    "\n",
    "plt.scatter(ptl, ptw, marker='o', s=130, c='b')\n",
    "\n",
    "plt.title('Iris dataset: Petal')\n",
    "plt.show()"
   ]
  },
  {
   "cell_type": "markdown",
   "metadata": {},
   "source": [
    "# SVM"
   ]
  },
  {
   "cell_type": "code",
   "execution_count": null,
   "metadata": {},
   "outputs": [],
   "source": [
    "from sklearn.svm import SVC\n",
    "\n",
    "# model = SVC(kernel='linear') \n",
    "model = SVC(kernel='rbf')     # default\n",
    "\n",
    "X_train, X_test,y_train,y_test = train_test_split(X, y, test_size=0.3, random_state=20)  \n",
    "\n",
    "# model.fit(X_train, y_train)"
   ]
  },
  {
   "cell_type": "code",
   "execution_count": null,
   "metadata": {},
   "outputs": [],
   "source": [
    "from sklearn.neighbors import KNeighborsClassifier\n",
    "# from sklearn.model_selection import cross_val_score\n",
    "\n",
    "model = KNeighborsClassifier(n_neighbors=7)\n",
    "\n",
    "cvs = cross_val_score(model, X, y, cv=5)  # no need to use model.fit\n",
    "print('cross val scores {}'.format(cvs.round(3)))\n",
    "print('mean (%) = {:.3f}' .format(cvs.mean() * 100 ))"
   ]
  },
  {
   "cell_type": "markdown",
   "metadata": {},
   "source": [
    "#  k-nearest neighbors (kNN)"
   ]
  },
  {
   "cell_type": "markdown",
   "metadata": {},
   "source": [
    "## Cross-validation"
   ]
  },
  {
   "cell_type": "code",
   "execution_count": null,
   "metadata": {},
   "outputs": [],
   "source": [
    "from sklearn.neighbors import KNeighborsClassifier\n",
    "# from sklearn.model_selection import cross_val_score\n",
    "\n",
    "k = 27      # hyperparameter\n",
    "model = KNeighborsClassifier(n_neighbors=k)\n",
    "\n",
    "cvs = cross_val_score(model, X, y, cv=5)  # no need to use model.fit\n",
    "print('cross val scores {}'.format(cvs.round(3)))\n",
    "print('mean (%) = {:.3f}' .format(cvs.mean() * 100 ))"
   ]
  },
  {
   "cell_type": "code",
   "execution_count": null,
   "metadata": {},
   "outputs": [],
   "source": [
    "k_list = [1, 2, 3, 4, 5, 6, 7, 8, 9, 10, 11, 12, 13, 15, 17, 19, 21]\n",
    "cvs_list = []\n",
    "for i, k in enumerate(k_list):\n",
    "    # print(k)\n",
    "    model = KNeighborsClassifier(n_neighbors=k)\n",
    "\n",
    "    cvs = cross_val_score(model, X, y, cv=5)  # no need to use model.fit\n",
    "    cvs_list.append(cvs.mean().round(4))\n",
    "\n",
    "cvs_list"
   ]
  },
  {
   "cell_type": "code",
   "execution_count": null,
   "metadata": {},
   "outputs": [],
   "source": [
    "list(zip(k_list, cvs_list))"
   ]
  },
  {
   "cell_type": "code",
   "execution_count": null,
   "metadata": {},
   "outputs": [],
   "source": [
    "plt.title('Score and k')\n",
    "plt.plot(k_list, cvs_list)\n",
    "# plt.bar(k_list, cvs_list)\n",
    "\n",
    "plt.xlabel('k')\n",
    "plt.ylabel('Score')\n",
    "plt.xticks(k_list)\n",
    "plt.show()"
   ]
  },
  {
   "cell_type": "markdown",
   "metadata": {},
   "source": [
    "## Train"
   ]
  },
  {
   "cell_type": "code",
   "execution_count": null,
   "metadata": {},
   "outputs": [],
   "source": [
    "from sklearn.neighbors import KNeighborsClassifier\n",
    "\n",
    "k = 11\n",
    "model = KNeighborsClassifier(n_neighbors=k)\n",
    "\n",
    "X_train, X_test,y_train,y_test = train_test_split(X, y, test_size=0.3, random_state=20)  \n",
    "\n",
    "model.fit(X_train, y_train)"
   ]
  },
  {
   "cell_type": "markdown",
   "metadata": {},
   "source": [
    "## Evaluation"
   ]
  },
  {
   "cell_type": "code",
   "execution_count": null,
   "metadata": {},
   "outputs": [],
   "source": [
    "# from sklearn.metrics import classification_report\n",
    "# from sklearn.metrics import confusion_matrix\n",
    "\n",
    "score = model.score(X_test, y_test)\n",
    "\n",
    "y_pred = model.predict(X_test)\n",
    "\n",
    "print('Score: {:.4f}' . format(score))\n",
    "\n",
    "print(classification_report(y_test, y_pred, target_names=class_names))\n",
    "print(confusion_matrix(y_test, y_pred))"
   ]
  },
  {
   "cell_type": "markdown",
   "metadata": {},
   "source": [
    "## Predict"
   ]
  },
  {
   "cell_type": "code",
   "execution_count": null,
   "metadata": {},
   "outputs": [],
   "source": [
    "X_new = np.array([[4.2, 4.0, 1.9, 0.8],     # \n",
    "                  [6.1, 3.5, 3.9, 1.5],     # \n",
    "                  [6.7, 3.5, 6.3, 1.4]])    # \n",
    "\n",
    "y_pred = model.predict(X_new)\n",
    "y_pred\n",
    "# print(class_names[y_pred][0])\n",
    "for i in y_pred:\n",
    "    print(class_names[i])"
   ]
  },
  {
   "cell_type": "markdown",
   "metadata": {},
   "source": [
    "## Confusion Matrix"
   ]
  },
  {
   "cell_type": "code",
   "execution_count": null,
   "metadata": {},
   "outputs": [],
   "source": [
    "from sklearn.metrics import confusion_matrix, ConfusionMatrixDisplay\n",
    "\n",
    "plt.rcParams.update({'font.size':12})\n",
    "# labels = df.species.unique() # \n",
    "\n",
    "y_pred = model.predict(X_test)\n",
    "\n",
    "cm = confusion_matrix(y_test, y_pred)\n",
    "ConfusionMatrixDisplay(cm, display_labels=class_names).plot() # cmap='Pastel1'\n",
    "plt.title('Confusion Matrix')\n",
    "plt.show()"
   ]
  },
  {
   "cell_type": "markdown",
   "metadata": {},
   "source": [
    "## Decision Regions"
   ]
  },
  {
   "cell_type": "code",
   "execution_count": null,
   "metadata": {},
   "outputs": [],
   "source": [
    "from mlxtend.plotting import plot_decision_regions\n",
    "\n",
    "value = 0\n",
    "width = 9.5\n",
    "\n",
    "ax = plot_decision_regions(np.array(X_test), y_test, \n",
    "                      clf=model, feature_index=[2, 3],  \n",
    "                      filler_feature_values={0: value, 1: value},\n",
    "                      filler_feature_ranges={0: width, 1: width},\n",
    "                      legend=2) \n",
    "\n",
    "handles, labels = ax.get_legend_handles_labels()\n",
    "ax.legend(handles, class_names, framealpha=0.5, loc='upper left')\n",
    "\n",
    "plt.title('kNN: Iris Prediction')\n",
    "\n",
    "# plt.xticks([])\n",
    "# plt.yticks([])\n",
    "plt.xlabel(df.columns[2]) \n",
    "plt.ylabel(df.columns[3])\n",
    "\n",
    "plt.scatter(X_new[:,2], X_new[:,3], marker='o', s=130, c='b')\n",
    "plt.show()"
   ]
  },
  {
   "cell_type": "code",
   "execution_count": null,
   "metadata": {},
   "outputs": [],
   "source": [
    "from mlxtend.plotting import plot_decision_regions\n",
    "\n",
    "value = 0\n",
    "width = 9.5\n",
    "\n",
    "ax = plot_decision_regions(np.array(X_test), y_test, \n",
    "                      clf=model, feature_index=[1, 2],  \n",
    "                      filler_feature_values={0: value, 3: value},\n",
    "                      filler_feature_ranges={0: width, 3: width},\n",
    "                      legend=2) \n",
    "\n",
    "handles, labels = ax.get_legend_handles_labels()\n",
    "ax.legend(handles, class_names, framealpha=0.5, loc='upper left')\n",
    "\n",
    "plt.title('kNN: Iris Prediction')\n",
    "\n",
    "plt.xticks()\n",
    "plt.yticks()\n",
    "plt.xlabel(df.columns[1]) \n",
    "plt.ylabel(df.columns[2])\n",
    "\n",
    "plt.scatter(X_new[:,2], X_new[:,3], marker='o', s=130, c='b')\n",
    "plt.show()"
   ]
  },
  {
   "cell_type": "code",
   "execution_count": null,
   "metadata": {},
   "outputs": [],
   "source": [
    "from mlxtend.plotting import plot_decision_regions\n",
    "\n",
    "value = 0\n",
    "width = 9.5\n",
    "\n",
    "ax = plot_decision_regions(np.array(X_train), y_train, \n",
    "                      clf=model, feature_index=[3, 1],  \n",
    "                      filler_feature_values={0: value, 2: value},\n",
    "                      filler_feature_ranges={0: width, 2: width},\n",
    "                      legend=2) \n",
    "\n",
    "handles, labels = ax.get_legend_handles_labels()\n",
    "ax.legend(handles, class_names, framealpha=0.5, loc='upper left')\n",
    "\n",
    "plt.title('kNN: Iris Prediction')\n",
    "\n",
    "plt.xticks()\n",
    "plt.yticks()\n",
    "plt.xlabel(df.columns[0]) \n",
    "plt.ylabel(df.columns[1])\n",
    "\n",
    "plt.scatter(X_new[:,2], X_new[:,3], marker='o', s=130, c='b')\n",
    "plt.show()"
   ]
  },
  {
   "cell_type": "markdown",
   "metadata": {},
   "source": [
    "# PCA : Principal component analysis\n",
    "\n",
    "เปลี่ยน 4 features -> 2 features เพื่อ plot x-y graph"
   ]
  },
  {
   "cell_type": "code",
   "execution_count": null,
   "metadata": {},
   "outputs": [],
   "source": [
    "X_train.shape, X_test.shape"
   ]
  },
  {
   "cell_type": "code",
   "execution_count": null,
   "metadata": {},
   "outputs": [],
   "source": [
    "from sklearn.decomposition import PCA\n",
    "\n",
    "pca = PCA(n_components=2)\n",
    "\n",
    "X_pca = pca.fit_transform(X)\n",
    "X_train, X_test,y_train,y_test = train_test_split(X_pca, y, test_size=0.3, random_state=20) "
   ]
  },
  {
   "cell_type": "code",
   "execution_count": null,
   "metadata": {},
   "outputs": [],
   "source": [
    "X_train.shape, X_test.shape"
   ]
  },
  {
   "cell_type": "markdown",
   "metadata": {},
   "source": [
    "## Model"
   ]
  },
  {
   "cell_type": "code",
   "execution_count": null,
   "metadata": {},
   "outputs": [],
   "source": [
    "k = 5\n",
    "model = KNeighborsClassifier(n_neighbors=k)\n",
    "\n",
    "model.fit(X_pca, y)"
   ]
  },
  {
   "cell_type": "markdown",
   "metadata": {},
   "source": [
    "## Decision Regions"
   ]
  },
  {
   "cell_type": "code",
   "execution_count": null,
   "metadata": {},
   "outputs": [],
   "source": [
    "from mlxtend.plotting import plot_decision_regions\n",
    "\n",
    "ax = plot_decision_regions(np.array(X_test), y_test, \n",
    "                      clf=model, \n",
    "                      legend=2) \n",
    "\n",
    "handles, labels = ax.get_legend_handles_labels()\n",
    "ax.legend(handles, class_names, framealpha=0.5, loc='upper left')\n",
    "\n",
    "plt.title(f'kNN: Iris Dataset (k={k})')\n",
    "\n",
    "plt.xticks([])\n",
    "plt.yticks([])\n",
    "plt.xlabel('PCA1')\n",
    "plt.ylabel('PCA2')\n",
    "\n",
    "plt.show()"
   ]
  },
  {
   "cell_type": "code",
   "execution_count": null,
   "metadata": {},
   "outputs": [],
   "source": []
  },
  {
   "cell_type": "code",
   "execution_count": null,
   "metadata": {},
   "outputs": [],
   "source": []
  },
  {
   "cell_type": "code",
   "execution_count": null,
   "metadata": {},
   "outputs": [],
   "source": []
  },
  {
   "cell_type": "code",
   "execution_count": null,
   "metadata": {},
   "outputs": [],
   "source": []
  },
  {
   "cell_type": "code",
   "execution_count": null,
   "metadata": {},
   "outputs": [],
   "source": [
    "X_new_pca = pca.transform(X_new)\n",
    "X_new_pca"
   ]
  },
  {
   "cell_type": "code",
   "execution_count": null,
   "metadata": {},
   "outputs": [],
   "source": [
    "# from mlxtend.plotting import plot_decision_regions\n",
    "\n",
    "ax = plot_decision_regions(np.array(X_test), y_test, \n",
    "                      clf=model, \n",
    "                      legend=2) \n",
    "\n",
    "handles, labels = ax.get_legend_handles_labels()\n",
    "ax.legend(handles, class_names, framealpha=0.5, loc='upper left')\n",
    "\n",
    "plt.title('kNN: Iris Prediction')\n",
    "\n",
    "plt.xticks()\n",
    "plt.yticks()\n",
    "plt.xlabel('PCA1')\n",
    "plt.ylabel('PCA2')\n",
    "\n",
    "plt.scatter(X_new_pca[:,0], X_new_pca[:,1], marker='o', s=130, c='b')\n",
    "plt.show()"
   ]
  },
  {
   "cell_type": "markdown",
   "metadata": {},
   "source": [
    "## Predict"
   ]
  },
  {
   "cell_type": "code",
   "execution_count": null,
   "metadata": {},
   "outputs": [],
   "source": [
    "y_pred = model.predict(X_new_pca)\n",
    "for i in y_pred:\n",
    "    print(class_names[i])"
   ]
  }
 ],
 "metadata": {
  "kernelspec": {
   "display_name": "Python 3",
   "language": "python",
   "name": "python3"
  },
  "language_info": {
   "codemirror_mode": {
    "name": "ipython",
    "version": 3
   },
   "file_extension": ".py",
   "mimetype": "text/x-python",
   "name": "python",
   "nbconvert_exporter": "python",
   "pygments_lexer": "ipython3",
   "version": "3.9.5"
  }
 },
 "nbformat": 4,
 "nbformat_minor": 4
}
